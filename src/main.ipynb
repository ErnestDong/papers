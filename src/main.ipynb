{
 "cells": [
  {
   "cell_type": "markdown",
   "metadata": {},
   "source": [
    "# 文献复现\n",
    "\n",
    "## KMV 模型计算\n",
    "\n",
    "整体违约距离如输出所示\n"
   ]
  },
  {
   "cell_type": "code",
   "execution_count": 1,
   "metadata": {},
   "outputs": [
    {
     "data": {
      "text/plain": [
       "日期\n",
       "2008-06-30    0.996345\n",
       "2008-12-31    1.593756\n",
       "2009-06-30    2.479833\n",
       "2009-12-31    3.403299\n",
       "2010-06-30    3.090801\n",
       "2010-12-31    4.299113\n",
       "2011-06-30    3.989534\n",
       "dtype: float64"
      ]
     },
     "execution_count": 1,
     "metadata": {},
     "output_type": "execute_result"
    }
   ],
   "source": [
    "from pathlib import Path\n",
    "\n",
    "import matplotlib.pyplot as plt\n",
    "import numpy as np\n",
    "import pandas as pd\n",
    "import seaborn as sns\n",
    "from dataloader import Dataloader\n",
    "from kmv import KMV\n",
    "from scipy import stats\n",
    "from volatility import Volatility\n",
    "\n",
    "project_root = Path(\"..\")\n",
    "sns.set(\n",
    "    rc={\"font.family\": \"SimHei\", \"figure.figsize\": (6, 3), \"axes.unicode_minus\": False},\n",
    "    style=\"white\",\n",
    ")\n",
    "\n",
    "\n",
    "model = KMV()\n",
    "dd = model.distance_to_default()\n",
    "st = pd.read_excel(\n",
    "    project_root / \"data/sts.xlsx\", usecols=[\"stock\", \"name\", \"date\", \"enddate\"]\n",
    ")\n",
    "st_stocks = st.set_index(\"stock\").to_dict()\n",
    "dd.mean(axis=1)"
   ]
  },
  {
   "cell_type": "markdown",
   "metadata": {},
   "source": [
    "## 实证结果分析\n"
   ]
  },
  {
   "cell_type": "code",
   "execution_count": 2,
   "metadata": {},
   "outputs": [
    {
     "data": {
      "text/plain": [
       "<AxesSubplot: xlabel='日期'>"
      ]
     },
     "execution_count": 2,
     "metadata": {},
     "output_type": "execute_result"
    },
    {
     "data": {
      "image/png": "[encoded data removed]",
      "text/plain": [
       "<Figure size 600x300 with 1 Axes>"
      ]
     },
     "metadata": {},
     "output_type": "display_data"
    }
   ],
   "source": [
    "# result = {\"ST\": [], \"non-ST\": []}\n",
    "# for company in dd:\n",
    "#     if \"ST\" in company:\n",
    "#         result[\"ST\"].append(dd[company])\n",
    "#     else:\n",
    "#         result[\"non-ST\"].append(dd[company])\n",
    "# result = {i: pd.DataFrame(result[i]) for i in result}\n",
    "# pd.DataFrame({i: result[i].mean() for i in result}).plot()\n",
    "default_line = dd.copy()\n",
    "for i in default_line:\n",
    "    if (s := model.label[i]) in st_stocks[\"name\"]:\n",
    "        default_line[i] = (default_line[i].index >= st_stocks[\"date\"][s]) & (\n",
    "            default_line[i].index < st_stocks[\"enddate\"][s]\n",
    "        )\n",
    "    else:\n",
    "        default_line[i] = False\n",
    "result = {\"ST\": dd[default_line].T, \"non-ST\": dd[~default_line].T}\n",
    "pd.DataFrame({i: result[i].mean(axis=0) for i in result}).plot()"
   ]
  },
  {
   "cell_type": "code",
   "execution_count": 3,
   "metadata": {},
   "outputs": [
    {
     "name": "stderr",
     "output_type": "stream",
     "text": [
      "/var/folders/nd/_3lfc6dn11q3hd0b4cz17ypw0000gn/T/ipykernel_6225/1239703784.py:16: FutureWarning: In future versions `DataFrame.to_latex` is expected to utilise the base implementation of `Styler.to_latex` for formatting and rendering. The arguments signature may therefore change. It is recommended instead to use `DataFrame.style.to_latex` which also contains additional functionality.\n",
      "  f.write(ks_test.to_latex())\n"
     ]
    },
    {
     "data": {
      "text/html": [
       "<div>\n",
       "<style scoped>\n",
       "    .dataframe tbody tr th:only-of-type {\n",
       "        vertical-align: middle;\n",
       "    }\n",
       "\n",
       "    .dataframe tbody tr th {\n",
       "        vertical-align: top;\n",
       "    }\n",
       "\n",
       "    .dataframe thead th {\n",
       "        text-align: right;\n",
       "    }\n",
       "</style>\n",
       "<table border=\"1\" class=\"dataframe\">\n",
       "  <thead>\n",
       "    <tr style=\"text-align: right;\">\n",
       "      <th></th>\n",
       "      <th>2008-06-30</th>\n",
       "      <th>2008-12-31</th>\n",
       "      <th>2009-06-30</th>\n",
       "      <th>2009-12-31</th>\n",
       "      <th>2010-06-30</th>\n",
       "      <th>2010-12-31</th>\n",
       "      <th>2011-06-30</th>\n",
       "    </tr>\n",
       "  </thead>\n",
       "  <tbody>\n",
       "    <tr>\n",
       "      <th>statistic</th>\n",
       "      <td>0.326667</td>\n",
       "      <td>0.802632</td>\n",
       "      <td>0.378947</td>\n",
       "      <td>0.697368</td>\n",
       "      <td>0.253333</td>\n",
       "      <td>0.460000</td>\n",
       "      <td>0.293333</td>\n",
       "    </tr>\n",
       "    <tr>\n",
       "      <th>pvalue</th>\n",
       "      <td>0.241814</td>\n",
       "      <td>0.001343</td>\n",
       "      <td>0.198772</td>\n",
       "      <td>0.006367</td>\n",
       "      <td>0.408818</td>\n",
       "      <td>0.068529</td>\n",
       "      <td>0.311583</td>\n",
       "    </tr>\n",
       "  </tbody>\n",
       "</table>\n",
       "</div>"
      ],
      "text/plain": [
       "           2008-06-30  2008-12-31  2009-06-30  2009-12-31  2010-06-30  \\\n",
       "statistic    0.326667    0.802632    0.378947    0.697368    0.253333   \n",
       "pvalue       0.241814    0.001343    0.198772    0.006367    0.408818   \n",
       "\n",
       "           2010-12-31  2011-06-30  \n",
       "statistic    0.460000    0.293333  \n",
       "pvalue       0.068529    0.311583  "
      ]
     },
     "execution_count": 3,
     "metadata": {},
     "output_type": "execute_result"
    }
   ],
   "source": [
    "ks_test = {}\n",
    "for date in result[\"ST\"].columns:\n",
    "    ks_test[date] = {\n",
    "        \"statistic\": (\n",
    "            tmp := stats.ks_2samp(\n",
    "                result[\"ST\"][date].dropna(),\n",
    "                result[\"non-ST\"][date].dropna(),\n",
    "                method=\"asymp\",\n",
    "                alternative=\"greater\",\n",
    "            )\n",
    "        ).statistic,\n",
    "        \"pvalue\": tmp.pvalue,\n",
    "    }\n",
    "ks_test = pd.DataFrame(ks_test)\n",
    "with open(project_root / \"results/ks_test.tex\", \"w\") as f:\n",
    "    f.write(ks_test.to_latex())\n",
    "ks_test"
   ]
  },
  {
   "cell_type": "code",
   "execution_count": 4,
   "metadata": {},
   "outputs": [
    {
     "name": "stderr",
     "output_type": "stream",
     "text": [
      "/var/folders/nd/_3lfc6dn11q3hd0b4cz17ypw0000gn/T/ipykernel_6225/775700905.py:13: FutureWarning: In future versions `DataFrame.to_latex` is expected to utilise the base implementation of `Styler.to_latex` for formatting and rendering. The arguments signature may therefore change. It is recommended instead to use `DataFrame.style.to_latex` which also contains additional functionality.\n",
      "  f.write(mw_test.to_latex())\n"
     ]
    },
    {
     "data": {
      "text/html": [
       "<div>\n",
       "<style scoped>\n",
       "    .dataframe tbody tr th:only-of-type {\n",
       "        vertical-align: middle;\n",
       "    }\n",
       "\n",
       "    .dataframe tbody tr th {\n",
       "        vertical-align: top;\n",
       "    }\n",
       "\n",
       "    .dataframe thead th {\n",
       "        text-align: right;\n",
       "    }\n",
       "</style>\n",
       "<table border=\"1\" class=\"dataframe\">\n",
       "  <thead>\n",
       "    <tr style=\"text-align: right;\">\n",
       "      <th></th>\n",
       "      <th>2008-06-30</th>\n",
       "      <th>2008-12-31</th>\n",
       "      <th>2009-06-30</th>\n",
       "      <th>2009-12-31</th>\n",
       "      <th>2010-06-30</th>\n",
       "      <th>2010-12-31</th>\n",
       "      <th>2011-06-30</th>\n",
       "    </tr>\n",
       "  </thead>\n",
       "  <tbody>\n",
       "    <tr>\n",
       "      <th>statistic</th>\n",
       "      <td>158.000000</td>\n",
       "      <td>47.000000</td>\n",
       "      <td>135.000000</td>\n",
       "      <td>78.000000</td>\n",
       "      <td>182.000000</td>\n",
       "      <td>131.000000</td>\n",
       "      <td>217.000000</td>\n",
       "    </tr>\n",
       "    <tr>\n",
       "      <th>pvalue</th>\n",
       "      <td>0.230442</td>\n",
       "      <td>0.005167</td>\n",
       "      <td>0.284836</td>\n",
       "      <td>0.028662</td>\n",
       "      <td>0.443427</td>\n",
       "      <td>0.091772</td>\n",
       "      <td>0.892414</td>\n",
       "    </tr>\n",
       "  </tbody>\n",
       "</table>\n",
       "</div>"
      ],
      "text/plain": [
       "           2008-06-30  2008-12-31  2009-06-30  2009-12-31  2010-06-30  \\\n",
       "statistic  158.000000   47.000000  135.000000   78.000000  182.000000   \n",
       "pvalue       0.230442    0.005167    0.284836    0.028662    0.443427   \n",
       "\n",
       "           2010-12-31  2011-06-30  \n",
       "statistic  131.000000  217.000000  \n",
       "pvalue       0.091772    0.892414  "
      ]
     },
     "execution_count": 4,
     "metadata": {},
     "output_type": "execute_result"
    }
   ],
   "source": [
    "mw_test = {}\n",
    "for date in result[\"ST\"].columns:\n",
    "    mw_test[date] = {\n",
    "        \"statistic\": (\n",
    "            tmp := stats.mannwhitneyu(\n",
    "                result[\"ST\"][date].dropna(),\n",
    "                result[\"non-ST\"][date].dropna(),\n",
    "                method=\"asymptotic\",\n",
    "            )\n",
    "        ).statistic,\n",
    "        \"pvalue\": tmp.pvalue,\n",
    "    }\n",
    "mw_test = pd.DataFrame(mw_test)\n",
    "with open(project_root / \"results/mw_test.tex\", \"w\") as f:\n",
    "    f.write(mw_test.to_latex())\n",
    "mw_test"
   ]
  },
  {
   "cell_type": "code",
   "execution_count": 5,
   "metadata": {},
   "outputs": [
    {
     "name": "stderr",
     "output_type": "stream",
     "text": [
      "/var/folders/nd/_3lfc6dn11q3hd0b4cz17ypw0000gn/T/ipykernel_6225/43613031.py:12: FutureWarning: In future versions `DataFrame.to_latex` is expected to utilise the base implementation of `Styler.to_latex` for formatting and rendering. The arguments signature may therefore change. It is recommended instead to use `DataFrame.style.to_latex` which also contains additional functionality.\n",
      "  f.write(pearsons.to_latex())\n"
     ]
    },
    {
     "data": {
      "text/html": [
       "<div>\n",
       "<style scoped>\n",
       "    .dataframe tbody tr th:only-of-type {\n",
       "        vertical-align: middle;\n",
       "    }\n",
       "\n",
       "    .dataframe tbody tr th {\n",
       "        vertical-align: top;\n",
       "    }\n",
       "\n",
       "    .dataframe thead th {\n",
       "        text-align: right;\n",
       "    }\n",
       "</style>\n",
       "<table border=\"1\" class=\"dataframe\">\n",
       "  <thead>\n",
       "    <tr style=\"text-align: right;\">\n",
       "      <th></th>\n",
       "      <th>2008-06-30</th>\n",
       "      <th>2008-12-31</th>\n",
       "      <th>2009-06-30</th>\n",
       "      <th>2009-12-31</th>\n",
       "      <th>2010-06-30</th>\n",
       "      <th>2010-12-31</th>\n",
       "      <th>2011-06-30</th>\n",
       "    </tr>\n",
       "  </thead>\n",
       "  <tbody>\n",
       "    <tr>\n",
       "      <th>pearsonr</th>\n",
       "      <td>-0.265334</td>\n",
       "      <td>-0.221167</td>\n",
       "      <td>-0.410335</td>\n",
       "      <td>-0.230768</td>\n",
       "      <td>-0.354095</td>\n",
       "      <td>-0.444828</td>\n",
       "      <td>-0.464128</td>\n",
       "    </tr>\n",
       "    <tr>\n",
       "      <th>pvalue</th>\n",
       "      <td>0.016667</td>\n",
       "      <td>0.047233</td>\n",
       "      <td>0.000142</td>\n",
       "      <td>0.038201</td>\n",
       "      <td>0.001182</td>\n",
       "      <td>0.000032</td>\n",
       "      <td>0.000013</td>\n",
       "    </tr>\n",
       "  </tbody>\n",
       "</table>\n",
       "</div>"
      ],
      "text/plain": [
       "          2008-06-30  2008-12-31  2009-06-30  2009-12-31  2010-06-30  \\\n",
       "pearsonr   -0.265334   -0.221167   -0.410335   -0.230768   -0.354095   \n",
       "pvalue      0.016667    0.047233    0.000142    0.038201    0.001182   \n",
       "\n",
       "          2010-12-31  2011-06-30  \n",
       "pearsonr   -0.444828   -0.464128  \n",
       "pvalue      0.000032    0.000013  "
      ]
     },
     "execution_count": 5,
     "metadata": {},
     "output_type": "execute_result"
    }
   ],
   "source": [
    "with pd.ExcelFile(project_root / \"data/KMV模型已知量汇总.xlsx\") as f:\n",
    "    assets = Dataloader(\"assets\", f).data.T\n",
    "assets = assets[assets.index.isin(dd.columns)]\n",
    "pearsons = {}\n",
    "for date in dd.T:\n",
    "    pearsons[date] = {\n",
    "        \"pearsonr\": (tmp := stats.pearsonr(dd.T[date], assets[date]))[0],\n",
    "        \"pvalue\": tmp[1],\n",
    "    }\n",
    "pearsons = pd.DataFrame(pearsons)\n",
    "with open(project_root / \"results/pearsons.tex\", \"w\") as f:\n",
    "    f.write(pearsons.to_latex())\n",
    "pearsons"
   ]
  },
  {
   "cell_type": "code",
   "execution_count": 6,
   "metadata": {},
   "outputs": [
    {
     "name": "stderr",
     "output_type": "stream",
     "text": [
      "/var/folders/nd/_3lfc6dn11q3hd0b4cz17ypw0000gn/T/ipykernel_6225/917214607.py:11: FutureWarning: In future versions `DataFrame.to_latex` is expected to utilise the base implementation of `Styler.to_latex` for formatting and rendering. The arguments signature may therefore change. It is recommended instead to use `DataFrame.style.to_latex` which also contains additional functionality.\n",
      "  f.write(pearsons_vol.to_latex())\n"
     ]
    },
    {
     "data": {
      "text/html": [
       "<div>\n",
       "<style scoped>\n",
       "    .dataframe tbody tr th:only-of-type {\n",
       "        vertical-align: middle;\n",
       "    }\n",
       "\n",
       "    .dataframe tbody tr th {\n",
       "        vertical-align: top;\n",
       "    }\n",
       "\n",
       "    .dataframe thead th {\n",
       "        text-align: right;\n",
       "    }\n",
       "</style>\n",
       "<table border=\"1\" class=\"dataframe\">\n",
       "  <thead>\n",
       "    <tr style=\"text-align: right;\">\n",
       "      <th></th>\n",
       "      <th>2008-06-30</th>\n",
       "      <th>2008-12-31</th>\n",
       "      <th>2009-06-30</th>\n",
       "      <th>2009-12-31</th>\n",
       "      <th>2010-06-30</th>\n",
       "      <th>2010-12-31</th>\n",
       "      <th>2011-06-30</th>\n",
       "    </tr>\n",
       "  </thead>\n",
       "  <tbody>\n",
       "    <tr>\n",
       "      <th>pearsonr</th>\n",
       "      <td>-0.023419</td>\n",
       "      <td>-0.312969</td>\n",
       "      <td>-0.254424</td>\n",
       "      <td>-0.184716</td>\n",
       "      <td>-0.249410</td>\n",
       "      <td>-0.121688</td>\n",
       "      <td>-0.327771</td>\n",
       "    </tr>\n",
       "    <tr>\n",
       "      <th>pvalue</th>\n",
       "      <td>0.835603</td>\n",
       "      <td>0.004444</td>\n",
       "      <td>0.021901</td>\n",
       "      <td>0.098770</td>\n",
       "      <td>0.024741</td>\n",
       "      <td>0.279166</td>\n",
       "      <td>0.002817</td>\n",
       "    </tr>\n",
       "  </tbody>\n",
       "</table>\n",
       "</div>"
      ],
      "text/plain": [
       "          2008-06-30  2008-12-31  2009-06-30  2009-12-31  2010-06-30  \\\n",
       "pearsonr   -0.023419   -0.312969   -0.254424   -0.184716   -0.249410   \n",
       "pvalue      0.835603    0.004444    0.021901    0.098770    0.024741   \n",
       "\n",
       "          2010-12-31  2011-06-30  \n",
       "pearsonr   -0.121688   -0.327771  \n",
       "pvalue      0.279166    0.002817  "
      ]
     },
     "execution_count": 6,
     "metadata": {},
     "output_type": "execute_result"
    }
   ],
   "source": [
    "volatility = Volatility().data\n",
    "volatility = volatility[dd.columns]\n",
    "pearsons_vol = {}\n",
    "for date in dd.T:\n",
    "    pearsons_vol[date] = {\n",
    "        \"pearsonr\": (tmp := stats.pearsonr(dd.T[date], volatility.T[date]))[0],\n",
    "        \"pvalue\": tmp[1],\n",
    "    }\n",
    "pearsons_vol = pd.DataFrame(pearsons_vol)\n",
    "with open(project_root / \"results/pearsons_vol.tex\", \"w\") as f:\n",
    "    f.write(pearsons_vol.to_latex())\n",
    "pearsons_vol"
   ]
  },
  {
   "cell_type": "markdown",
   "metadata": {},
   "source": [
    "## 违约距离对信贷风险的预测效果分析\n",
    "\n",
    "论文中有错误，不是 2010-11 年成为 ST 的股票，而是 2007-08 年 ST 的股票\n"
   ]
  },
  {
   "cell_type": "code",
   "execution_count": 7,
   "metadata": {},
   "outputs": [
    {
     "data": {
      "text/html": [
       "<div>\n",
       "<style scoped>\n",
       "    .dataframe tbody tr th:only-of-type {\n",
       "        vertical-align: middle;\n",
       "    }\n",
       "\n",
       "    .dataframe tbody tr th {\n",
       "        vertical-align: top;\n",
       "    }\n",
       "\n",
       "    .dataframe thead th {\n",
       "        text-align: right;\n",
       "    }\n",
       "</style>\n",
       "<table border=\"1\" class=\"dataframe\">\n",
       "  <thead>\n",
       "    <tr style=\"text-align: right;\">\n",
       "      <th></th>\n",
       "      <th>stock</th>\n",
       "      <th>name</th>\n",
       "      <th>date</th>\n",
       "      <th>enddate</th>\n",
       "    </tr>\n",
       "  </thead>\n",
       "  <tbody>\n",
       "    <tr>\n",
       "      <th>10</th>\n",
       "      <td>000008.SZ</td>\n",
       "      <td>*ST宝投</td>\n",
       "      <td>2007-03-30</td>\n",
       "      <td>2011-12-31</td>\n",
       "    </tr>\n",
       "    <tr>\n",
       "      <th>14</th>\n",
       "      <td>600610.SH</td>\n",
       "      <td>S*ST中纺</td>\n",
       "      <td>2007-05-08</td>\n",
       "      <td>2011-12-31</td>\n",
       "    </tr>\n",
       "    <tr>\n",
       "      <th>75</th>\n",
       "      <td>600706.SH</td>\n",
       "      <td>*ST长信</td>\n",
       "      <td>2007-04-25</td>\n",
       "      <td>2011-12-31</td>\n",
       "    </tr>\n",
       "    <tr>\n",
       "      <th>80</th>\n",
       "      <td>600714.SH</td>\n",
       "      <td>*ST金瑞</td>\n",
       "      <td>2007-03-27</td>\n",
       "      <td>2010-12-31</td>\n",
       "    </tr>\n",
       "    <tr>\n",
       "      <th>101</th>\n",
       "      <td>000605.SZ</td>\n",
       "      <td>*ST四环</td>\n",
       "      <td>2007-04-30</td>\n",
       "      <td>2011-12-31</td>\n",
       "    </tr>\n",
       "    <tr>\n",
       "      <th>131</th>\n",
       "      <td>600793.SH</td>\n",
       "      <td>*ST宜纸</td>\n",
       "      <td>2008-02-01</td>\n",
       "      <td>2011-12-31</td>\n",
       "    </tr>\n",
       "    <tr>\n",
       "      <th>172</th>\n",
       "      <td>600139.SH</td>\n",
       "      <td>*ST绵高</td>\n",
       "      <td>2007-04-11</td>\n",
       "      <td>2008-12-31</td>\n",
       "    </tr>\n",
       "    <tr>\n",
       "      <th>242</th>\n",
       "      <td>600466.SH</td>\n",
       "      <td>*ST迪康</td>\n",
       "      <td>2007-05-08</td>\n",
       "      <td>2008-12-31</td>\n",
       "    </tr>\n",
       "    <tr>\n",
       "      <th>273</th>\n",
       "      <td>600988.SH</td>\n",
       "      <td>*ST宝龙</td>\n",
       "      <td>2007-04-27</td>\n",
       "      <td>2011-12-31</td>\n",
       "    </tr>\n",
       "    <tr>\n",
       "      <th>274</th>\n",
       "      <td>600421.SH</td>\n",
       "      <td>ST国药</td>\n",
       "      <td>2008-05-05</td>\n",
       "      <td>2011-12-31</td>\n",
       "    </tr>\n",
       "  </tbody>\n",
       "</table>\n",
       "</div>"
      ],
      "text/plain": [
       "         stock    name       date    enddate\n",
       "10   000008.SZ   *ST宝投 2007-03-30 2011-12-31\n",
       "14   600610.SH  S*ST中纺 2007-05-08 2011-12-31\n",
       "75   600706.SH   *ST长信 2007-04-25 2011-12-31\n",
       "80   600714.SH   *ST金瑞 2007-03-27 2010-12-31\n",
       "101  000605.SZ   *ST四环 2007-04-30 2011-12-31\n",
       "131  600793.SH   *ST宜纸 2008-02-01 2011-12-31\n",
       "172  600139.SH   *ST绵高 2007-04-11 2008-12-31\n",
       "242  600466.SH   *ST迪康 2007-05-08 2008-12-31\n",
       "273  600988.SH   *ST宝龙 2007-04-27 2011-12-31\n",
       "274  600421.SH    ST国药 2008-05-05 2011-12-31"
      ]
     },
     "execution_count": 7,
     "metadata": {},
     "output_type": "execute_result"
    }
   ],
   "source": [
    "st_companies = \"000008.SZ 000605.SZ 600139.SH 600466.SH 600706.SH 600714.SH 600988.SH 600793.SH 600421.SH 600610.SH\".split()\n",
    "st_date = st[st[\"stock\"].isin(st_companies)]\n",
    "st_date"
   ]
  },
  {
   "cell_type": "code",
   "execution_count": 8,
   "metadata": {},
   "outputs": [
    {
     "data": {
      "text/html": [
       "<div>\n",
       "<style scoped>\n",
       "    .dataframe tbody tr th:only-of-type {\n",
       "        vertical-align: middle;\n",
       "    }\n",
       "\n",
       "    .dataframe tbody tr th {\n",
       "        vertical-align: top;\n",
       "    }\n",
       "\n",
       "    .dataframe thead th {\n",
       "        text-align: right;\n",
       "    }\n",
       "</style>\n",
       "<table border=\"1\" class=\"dataframe\">\n",
       "  <thead>\n",
       "    <tr style=\"text-align: right;\">\n",
       "      <th></th>\n",
       "      <th>stock</th>\n",
       "      <th>name</th>\n",
       "      <th>date</th>\n",
       "      <th>enddate</th>\n",
       "    </tr>\n",
       "  </thead>\n",
       "  <tbody>\n",
       "    <tr>\n",
       "      <th>279</th>\n",
       "      <td>002113.SZ</td>\n",
       "      <td>ST天润</td>\n",
       "      <td>2010-10-20</td>\n",
       "      <td>2011-12-31</td>\n",
       "    </tr>\n",
       "    <tr>\n",
       "      <th>281</th>\n",
       "      <td>002200.SZ</td>\n",
       "      <td>*ST大地</td>\n",
       "      <td>2011-05-04</td>\n",
       "      <td>2011-12-31</td>\n",
       "    </tr>\n",
       "  </tbody>\n",
       "</table>\n",
       "</div>"
      ],
      "text/plain": [
       "         stock   name       date    enddate\n",
       "279  002113.SZ   ST天润 2010-10-20 2011-12-31\n",
       "281  002200.SZ  *ST大地 2011-05-04 2011-12-31"
      ]
     },
     "execution_count": 8,
     "metadata": {},
     "output_type": "execute_result"
    }
   ],
   "source": [
    "st_companies = st[\n",
    "    (st[\"date\"] > \"2010-06-30\") & (st[\"stock\"].isin(model.label.values()))\n",
    "]\n",
    "st_companies"
   ]
  },
  {
   "cell_type": "code",
   "execution_count": 9,
   "metadata": {},
   "outputs": [
    {
     "data": {
      "text/html": [
       "<div>\n",
       "<style scoped>\n",
       "    .dataframe tbody tr th:only-of-type {\n",
       "        vertical-align: middle;\n",
       "    }\n",
       "\n",
       "    .dataframe tbody tr th {\n",
       "        vertical-align: top;\n",
       "    }\n",
       "\n",
       "    .dataframe thead th {\n",
       "        text-align: right;\n",
       "    }\n",
       "</style>\n",
       "<table border=\"1\" class=\"dataframe\">\n",
       "  <thead>\n",
       "    <tr style=\"text-align: right;\">\n",
       "      <th></th>\n",
       "      <th>ST天润</th>\n",
       "      <th>*ST云投</th>\n",
       "    </tr>\n",
       "  </thead>\n",
       "  <tbody>\n",
       "    <tr>\n",
       "      <th>ST前两年</th>\n",
       "      <td>0.238944</td>\n",
       "      <td>2.106469</td>\n",
       "    </tr>\n",
       "    <tr>\n",
       "      <th>ST前一年半</th>\n",
       "      <td>1.547428</td>\n",
       "      <td>4.392480</td>\n",
       "    </tr>\n",
       "    <tr>\n",
       "      <th>ST前一年</th>\n",
       "      <td>1.779768</td>\n",
       "      <td>3.959906</td>\n",
       "    </tr>\n",
       "    <tr>\n",
       "      <th>ST前半年</th>\n",
       "      <td>2.275831</td>\n",
       "      <td>2.631978</td>\n",
       "    </tr>\n",
       "    <tr>\n",
       "      <th>ST当年</th>\n",
       "      <td>1.222579</td>\n",
       "      <td>1.927210</td>\n",
       "    </tr>\n",
       "  </tbody>\n",
       "</table>\n",
       "</div>"
      ],
      "text/plain": [
       "            ST天润     *ST云投\n",
       "ST前两年   0.238944  2.106469\n",
       "ST前一年半  1.547428  4.392480\n",
       "ST前一年   1.779768  3.959906\n",
       "ST前半年   2.275831  2.631978\n",
       "ST当年    1.222579  1.927210"
      ]
     },
     "execution_count": 9,
     "metadata": {},
     "output_type": "execute_result"
    }
   ],
   "source": [
    "st_stock_dd = {}\n",
    "for stock in st_companies.to_dict(\"records\"):\n",
    "    stock_name = [i for i in model.label if model.label[i] == stock[\"stock\"]][0]\n",
    "    st_stock_series = dd[stock_name].sort_index()\n",
    "\n",
    "    st_stock_dd[stock_name] = pd.concat(\n",
    "        [\n",
    "            st_stock_series[st_stock_series.index < stock[\"date\"]].tail(4),\n",
    "            # .reset_index(drop=True),\n",
    "            st_stock_series[st_stock_series.index > stock[\"date\"]].head(1)\n",
    "            # .reset_index(drop=True),\n",
    "        ],\n",
    "        ignore_index=True,\n",
    "    )\n",
    "st_stock_dd = pd.DataFrame(st_stock_dd)\n",
    "st_stock_dd.index = [\"ST前两年\", \"ST前一年半\", \"ST前一年\", \"ST前半年\", \"ST当年\"]\n",
    "st_stock_dd"
   ]
  },
  {
   "cell_type": "code",
   "execution_count": 10,
   "metadata": {},
   "outputs": [
    {
     "data": {
      "text/plain": [
       "<AxesSubplot: >"
      ]
     },
     "execution_count": 10,
     "metadata": {},
     "output_type": "execute_result"
    },
    {
     "data": {
      "image/png": "[encoded data removed]",
      "text/plain": [
       "<Figure size 600x300 with 2 Axes>"
      ]
     },
     "metadata": {},
     "output_type": "display_data"
    }
   ],
   "source": [
    "fig, axes = plt.subplots(1, 2)\n",
    "st_stock_dd.mean(axis=1).tail(4).plot(ax=axes[0])\n",
    "st_stock_dd.mean(axis=1).plot(ax=axes[1])"
   ]
  },
  {
   "cell_type": "code",
   "execution_count": 11,
   "metadata": {},
   "outputs": [
    {
     "data": {
      "text/plain": [
       "<AxesSubplot: >"
      ]
     },
     "execution_count": 11,
     "metadata": {},
     "output_type": "execute_result"
    },
    {
     "data": {
      "image/png": "[encoded data removed]",
      "text/plain": [
       "<Figure size 600x300 with 1 Axes>"
      ]
     },
     "metadata": {},
     "output_type": "display_data"
    }
   ],
   "source": [
    "def grade(x, lst):\n",
    "    if not lst:\n",
    "        return 0\n",
    "    assert min(lst) > 0\n",
    "    if x > lst[0]:\n",
    "        return grade(x, lst[1:])\n",
    "    return lst[0]\n",
    "\n",
    "\n",
    "result = {\"ST\": [], \"non-ST\": []}\n",
    "for stock in dd.columns:\n",
    "    result[\"ST\"] = dd[default_line]\n",
    "    result[\"non-ST\"] = dd[~default_line]\n",
    "temp = result[\"ST\"].values\n",
    "result[\"ST\"] = temp[~np.isnan(temp)]\n",
    "temp = result[\"non-ST\"].values\n",
    "result[\"non-ST\"] = temp[~np.isnan(temp)]\n",
    "\n",
    "res = pd.DataFrame(\n",
    "    {\n",
    "        j: pd.Series(\n",
    "            [grade(i, [1.5, 2, 2.5, 3, 4, 5]) for i in result[j]]\n",
    "        ).value_counts()\n",
    "        for j in result\n",
    "    }\n",
    ")\n",
    "res.plot.bar()"
   ]
  },
  {
   "cell_type": "code",
   "execution_count": 12,
   "metadata": {},
   "outputs": [
    {
     "data": {
      "text/plain": [
       "<AxesSubplot: >"
      ]
     },
     "execution_count": 12,
     "metadata": {},
     "output_type": "execute_result"
    },
    {
     "data": {
      "image/png": "[encoded data removed]",
      "text/plain": [
       "<Figure size 600x300 with 1 Axes>"
      ]
     },
     "metadata": {},
     "output_type": "display_data"
    }
   ],
   "source": [
    "(res[\"ST\"] / res.sum(axis=1)).plot()"
   ]
  },
  {
   "cell_type": "markdown",
   "metadata": {},
   "source": [
    "|            | $H_0$为真  | $H_0$为假 |\n",
    "| ---------- | ---------- | --------- |\n",
    "| 拒绝$H_0   | $\\alpha$   | $1-\\beta$ |\n",
    "| 不拒绝$H_0 | $1-\\alpha$ | $\\beta$   |\n"
   ]
  },
  {
   "cell_type": "code",
   "execution_count": 13,
   "metadata": {},
   "outputs": [
    {
     "name": "stderr",
     "output_type": "stream",
     "text": [
      "/var/folders/nd/_3lfc6dn11q3hd0b4cz17ypw0000gn/T/ipykernel_6225/2757599155.py:9: FutureWarning: In future versions `DataFrame.to_latex` is expected to utilise the base implementation of `Styler.to_latex` for formatting and rendering. The arguments signature may therefore change. It is recommended instead to use `DataFrame.style.to_latex` which also contains additional functionality.\n",
      "  f.write(last_table.to_latex())\n"
     ]
    },
    {
     "data": {
      "text/html": [
       "<div>\n",
       "<style scoped>\n",
       "    .dataframe tbody tr th:only-of-type {\n",
       "        vertical-align: middle;\n",
       "    }\n",
       "\n",
       "    .dataframe tbody tr th {\n",
       "        vertical-align: top;\n",
       "    }\n",
       "\n",
       "    .dataframe thead th {\n",
       "        text-align: right;\n",
       "    }\n",
       "</style>\n",
       "<table border=\"1\" class=\"dataframe\">\n",
       "  <thead>\n",
       "    <tr style=\"text-align: right;\">\n",
       "      <th></th>\n",
       "      <th>alpha</th>\n",
       "      <th>beta</th>\n",
       "    </tr>\n",
       "    <tr>\n",
       "      <th>日期</th>\n",
       "      <th></th>\n",
       "      <th></th>\n",
       "    </tr>\n",
       "  </thead>\n",
       "  <tbody>\n",
       "    <tr>\n",
       "      <th>2008-06-30</th>\n",
       "      <td>0.000000</td>\n",
       "      <td>0.800000</td>\n",
       "    </tr>\n",
       "    <tr>\n",
       "      <th>2008-12-31</th>\n",
       "      <td>0.000000</td>\n",
       "      <td>0.723684</td>\n",
       "    </tr>\n",
       "    <tr>\n",
       "      <th>2009-06-30</th>\n",
       "      <td>0.200000</td>\n",
       "      <td>0.631579</td>\n",
       "    </tr>\n",
       "    <tr>\n",
       "      <th>2009-12-31</th>\n",
       "      <td>0.000000</td>\n",
       "      <td>0.539474</td>\n",
       "    </tr>\n",
       "    <tr>\n",
       "      <th>2010-06-30</th>\n",
       "      <td>0.333333</td>\n",
       "      <td>0.560000</td>\n",
       "    </tr>\n",
       "    <tr>\n",
       "      <th>2010-12-31</th>\n",
       "      <td>0.333333</td>\n",
       "      <td>0.386667</td>\n",
       "    </tr>\n",
       "    <tr>\n",
       "      <th>2011-06-30</th>\n",
       "      <td>0.666667</td>\n",
       "      <td>0.506667</td>\n",
       "    </tr>\n",
       "  </tbody>\n",
       "</table>\n",
       "</div>"
      ],
      "text/plain": [
       "               alpha      beta\n",
       "日期                            \n",
       "2008-06-30  0.000000  0.800000\n",
       "2008-12-31  0.000000  0.723684\n",
       "2009-06-30  0.200000  0.631579\n",
       "2009-12-31  0.000000  0.539474\n",
       "2010-06-30  0.333333  0.560000\n",
       "2010-12-31  0.333333  0.386667\n",
       "2011-06-30  0.666667  0.506667"
      ]
     },
     "execution_count": 13,
     "metadata": {},
     "output_type": "execute_result"
    }
   ],
   "source": [
    "default_line_1 = dd.mean(axis=1) * 0.5 + 1.5 + 0.3\n",
    "default_line_2 = dd.mean(axis=1) * 0.5 + 1.5  # - 0.3\n",
    "negative_1 = dd.apply(lambda x: (x - default_line_1)) > 0\n",
    "positive_2 = dd.apply(lambda x: (x - default_line_2)) < 0\n",
    "alpha = (negative_1 & default_line).sum(axis=1) / default_line.sum(axis=1)\n",
    "beta = (positive_2 & (~default_line)).sum(axis=1) / (~default_line).sum(axis=1)\n",
    "last_table = pd.DataFrame({\"alpha\": alpha, \"beta\": beta})\n",
    "with open(project_root / \"results/table_11.tex\", \"w\") as f:\n",
    "    f.write(last_table.to_latex())\n",
    "last_table"
   ]
  },
  {
   "cell_type": "code",
   "execution_count": null,
   "metadata": {},
   "outputs": [],
   "source": []
  }
 ],
 "metadata": {
  "kernelspec": {
   "display_name": "Python 3.10.8 ('.venv': venv)",
   "language": "python",
   "name": "python3"
  },
  "language_info": {
   "codemirror_mode": {
    "name": "ipython",
    "version": 3
   },
   "file_extension": ".py",
   "mimetype": "text/x-python",
   "name": "python",
   "nbconvert_exporter": "python",
   "pygments_lexer": "ipython3",
   "version": "3.10.8"
  },
  "orig_nbformat": 4,
  "vscode": {
   "interpreter": {
    "hash": "0a354f718320bc450c7a3d558785f843eaf43ddf3e9d3877466903c4aa25a403"
   }
  }
 },
 "nbformat": 4,
 "nbformat_minor": 2
}
