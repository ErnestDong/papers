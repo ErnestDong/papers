{
 "cells": [
  {
   "cell_type": "markdown",
   "metadata": {},
   "source": [
    "# 风管模型第四次作业\n",
    "\n",
    "股票市场的走势是一个国家经济状况的“晴雨表”。长久以来，此领域一直是众多学者的研究重点。目前，预测股票价格走势的方法多种多样，但是均存在对股票价格的波动拟合效果较差、预测精度有限等问题。时间序列模型具有应用范围广、限制要求少、短期预测准确率高等优点，借此，它成为了金融预测领域较受欢迎的预测模型之一。\n",
    "\n",
    "时间序列分析是一种主要用于描述和探究某一现象随时间的发展如何变化的分析方法。时间序列是同一种现象在不同时间上的相继观察值排列而成的一组数字序列。人们运用时间序列的历史数据，揭示现象随时间变化的规律并将这种规律延伸到未来，从而对该现象的未来做出预测。\n",
    "\n",
    "本文运用时间序列分析方法，使用LN、AR、ARCH、GARCH、RSLN-2五个模型对样本数据进行拟合，计算对数似然函数的最大值以及AIC和SBC，比较不同模型的拟合效果，并对沪深300指数未来的走势进行预判。"
   ]
  },
  {
   "cell_type": "code",
   "execution_count": 1,
   "metadata": {},
   "outputs": [
    {
     "data": {
      "text/plain": [
       "<AxesSubplot:ylabel='Density'>"
      ]
     },
     "execution_count": 1,
     "metadata": {},
     "output_type": "execute_result"
    },
    {
     "data": {
      "image/png": "[encoded data removed]",
      "text/plain": [
       "<Figure size 432x288 with 1 Axes>"
      ]
     },
     "metadata": {
      "needs_background": "light"
     },
     "output_type": "display_data"
    }
   ],
   "source": [
    "import matplotlib.pyplot as plt\n",
    "import numpy as np\n",
    "import pandas as pd\n",
    "from arch import arch_model\n",
    "from scipy.stats import chi2\n",
    "from statsmodels.tsa.arima.model import ARIMA\n",
    "from statsmodels.tsa.regime_switching.markov_regression import MarkovRegression\n",
    "\n",
    "# print(\"importing done\")\n",
    "plt.rcParams['font.sans-serif']=['SimHei']\n",
    "plt.rcParams['axes.unicode_minus']=False\n",
    "result = {}\n",
    "df = (\n",
    "    pd.read_excel(\"./lib/创业板指.xlsx\", index_col=2, skipfooter=2)\n",
    "    .sort_index()\n",
    "    .drop(columns=[\"代码\", \"名称\"])\n",
    ")\n",
    "df = df.apply(\n",
    "    lambda x: x.str.replace(\",\", \"\").astype(float) if x.dtype == \"object\" else x\n",
    ")\n",
    "df.index = pd.to_datetime(df.index)\n",
    "df[\"weeknum\"] = df.index.map(lambda x: str(x.year) + \"-\" + str(x.isocalendar().week))\n",
    "df = df.sort_index()\n",
    "df[\"log(收益率)\"] = (df[\"收盘价(元)\"] / df[\"收盘价(元)\"].shift(1)).dropna().apply(np.log)\n",
    "df[[\"log(收益率)\"]].plot(kind=\"kde\")"
   ]
  },
  {
   "cell_type": "markdown",
   "metadata": {},
   "source": [
    "## 第一题\n",
    "\n",
    "### LN 模型\n",
    "\n",
    "我们依据<cite data-cite=\"wang2020corrected\">Wang(2020)</cite> 提出的算法，对 Lognormal 模型进行最大似然估计，即\n",
    "\n",
    "$$\n",
    "\\log(L) = -\\sum_{i=1}^n\\log x_i-n\\log\\sigma-\\frac{n}{2}\\log 2\\pi - \\sum_{i=11^n}\\frac{(\\log x_i-\\mu)^2}{2\\sigma^2}\n",
    "$$\n",
    "\n",
    "采用样本均值 $\\hat\\mu$ 和样本方差 $\\hat\\sigma^2$ 代入计算 $AIC$、$SBC$，得到的结果如下表所示"
   ]
  },
  {
   "cell_type": "code",
   "execution_count": 2,
   "metadata": {},
   "outputs": [
    {
     "data": {
      "text/html": [
       "<div>\n",
       "<style scoped>\n",
       "    .dataframe tbody tr th:only-of-type {\n",
       "        vertical-align: middle;\n",
       "    }\n",
       "\n",
       "    .dataframe tbody tr th {\n",
       "        vertical-align: top;\n",
       "    }\n",
       "\n",
       "    .dataframe thead th {\n",
       "        text-align: right;\n",
       "    }\n",
       "</style>\n",
       "<table border=\"1\" class=\"dataframe\">\n",
       "  <thead>\n",
       "    <tr style=\"text-align: right;\">\n",
       "      <th></th>\n",
       "      <th>AIC</th>\n",
       "      <th>SBC</th>\n",
       "      <th>k</th>\n",
       "      <th>log(L)</th>\n",
       "    </tr>\n",
       "  </thead>\n",
       "  <tbody>\n",
       "    <tr>\n",
       "      <th>LN</th>\n",
       "      <td>7318.588555</td>\n",
       "      <td>7312.609901</td>\n",
       "      <td>2.0</td>\n",
       "      <td>7320.588555</td>\n",
       "    </tr>\n",
       "  </tbody>\n",
       "</table>\n",
       "</div>"
      ],
      "text/plain": [
       "            AIC          SBC    k       log(L)\n",
       "LN  7318.588555  7312.609901  2.0  7320.588555"
      ]
     },
     "execution_count": 2,
     "metadata": {},
     "output_type": "execute_result"
    }
   ],
   "source": [
    "# df[\"weeknum\"] = df.index.map(lambda x: str(x.year) + \"-\" + str(x.isocalendar().week))\n",
    "# df = df.drop_duplicates(subset=\"weeknum\", keep=\"last\")\n",
    "log = (df[\"收盘价(元)\"] / df[\"收盘价(元)\"].shift(1)).dropna().apply(np.log)\n",
    "mu = log.mean()\n",
    "sigma = log.std()\n",
    "likelyhood_ln = log.apply(\n",
    "    lambda x: -np.log(sigma) - np.log(2 * np.pi) / 2 - (x - mu) ** 2 / (2 * sigma**2)\n",
    ").sum()\n",
    "k, logl = 2, likelyhood_ln\n",
    "result[\"LN\"] = {\n",
    "    \"k\": k,\n",
    "    \"log(L)\": logl,\n",
    "    \"AIC\": logl - k,\n",
    "    \"SBC\": logl - k * np.log(log.shape[0]) / 2,\n",
    "}\n",
    "pd.DataFrame(result).T"
   ]
  },
  {
   "cell_type": "markdown",
   "metadata": {},
   "source": [
    "### AR(1) 模型\n",
    "\n",
    "自回归模型（AR）是最简单的时间序列处理方法，对LogNormal的改进在于考虑了变量之间的相关性，用过去随机变量的情况来描述未来该随机变量的取值。在自回归模型假设下，随机变量的取值总会向长期均值靠拢。我们选择一阶自回归模型对样本数据进行拟合，函数表达式为 \n",
    "$$Y_t=\\mu+\\alpha(Y_{t-1}-\\mu)+\\sigma\\varepsilon_t$$\n",
    "其中 $\\alpha\\in(-1,1)$ ，$\\varepsilon_t$ 为相互独立且符合标准正态分布的白噪声过程。"
   ]
  },
  {
   "cell_type": "code",
   "execution_count": 3,
   "metadata": {},
   "outputs": [
    {
     "name": "stdout",
     "output_type": "stream",
     "text": [
      "                               SARIMAX Results                                \n",
      "==============================================================================\n",
      "Dep. Variable:                      y   No. Observations:                 2918\n",
      "Model:                 ARIMA(1, 0, 0)   Log Likelihood                7325.165\n",
      "Date:                Sun, 19 Jun 2022   AIC                         -14644.330\n",
      "Time:                        21:51:29   BIC                         -14626.394\n",
      "Sample:                             0   HQIC                        -14637.870\n",
      "                               - 2918                                         \n",
      "Covariance Type:                  opg                                         \n",
      "==============================================================================\n",
      "                 coef    std err          z      P>|z|      [0.025      0.975]\n",
      "------------------------------------------------------------------------------\n",
      "const          0.0003      0.000      0.803      0.422      -0.000       0.001\n",
      "ar.L1          0.0560      0.014      3.952      0.000       0.028       0.084\n",
      "sigma2         0.0004   7.47e-06     51.702      0.000       0.000       0.000\n",
      "===================================================================================\n",
      "Ljung-Box (L1) (Q):                   0.01   Jarque-Bera (JB):               527.59\n",
      "Prob(Q):                              0.91   Prob(JB):                         0.00\n",
      "Heteroskedasticity (H):               0.93   Skew:                            -0.45\n",
      "Prob(H) (two-sided):                  0.25   Kurtosis:                         4.88\n",
      "===================================================================================\n",
      "\n",
      "Warnings:\n",
      "[1] Covariance matrix calculated using the outer product of gradients (complex-step).\n"
     ]
    },
    {
     "data": {
      "text/html": [
       "<div>\n",
       "<style scoped>\n",
       "    .dataframe tbody tr th:only-of-type {\n",
       "        vertical-align: middle;\n",
       "    }\n",
       "\n",
       "    .dataframe tbody tr th {\n",
       "        vertical-align: top;\n",
       "    }\n",
       "\n",
       "    .dataframe thead th {\n",
       "        text-align: right;\n",
       "    }\n",
       "</style>\n",
       "<table border=\"1\" class=\"dataframe\">\n",
       "  <thead>\n",
       "    <tr style=\"text-align: right;\">\n",
       "      <th></th>\n",
       "      <th>k</th>\n",
       "      <th>log(L)</th>\n",
       "      <th>AIC</th>\n",
       "      <th>SBC</th>\n",
       "    </tr>\n",
       "  </thead>\n",
       "  <tbody>\n",
       "    <tr>\n",
       "      <th>LN</th>\n",
       "      <td>2.0</td>\n",
       "      <td>7320.588555</td>\n",
       "      <td>7318.588555</td>\n",
       "      <td>7312.609901</td>\n",
       "    </tr>\n",
       "    <tr>\n",
       "      <th>AR(1)</th>\n",
       "      <td>3.0</td>\n",
       "      <td>7325.165137</td>\n",
       "      <td>7322.165137</td>\n",
       "      <td>7313.197156</td>\n",
       "    </tr>\n",
       "  </tbody>\n",
       "</table>\n",
       "</div>"
      ],
      "text/plain": [
       "         k       log(L)          AIC          SBC\n",
       "LN     2.0  7320.588555  7318.588555  7312.609901\n",
       "AR(1)  3.0  7325.165137  7322.165137  7313.197156"
      ]
     },
     "execution_count": 3,
     "metadata": {},
     "output_type": "execute_result"
    }
   ],
   "source": [
    "model = ARIMA(log.values, order=(1, 0, 0))\n",
    "AR1 = model.fit()\n",
    "k, logl = 3, AR1.llf\n",
    "result[\"AR(1)\"] = {\n",
    "    \"k\":k,\n",
    "    \"log(L)\": logl,\n",
    "    \"AIC\": logl - k,\n",
    "    \"SBC\": logl - k * np.log(log.shape[0]) / 2,\n",
    "}\n",
    "print(AR1.summary())\n",
    "pd.DataFrame(result).T"
   ]
  },
  {
   "cell_type": "markdown",
   "metadata": {},
   "source": [
    "自回归方法的优点是所需资料不多，可用自身变数数列来进行预测。但是这种方法受到一定的限制：必须具有自相关，自相关系数是关键。如果自相关系数(R)小于0.5，则不宜采用，否则预测结果极不准确。自回归只能适用于预测与自身前期相关的经济现象，即受自身历史因素影响较大的经济现象，如矿的开采量，各种自然资源产量等；对于受社会因素影响较大的经济现象，不宜采用自回归，而应改采可纳入其他变数的向量自回归模型。\n",
    "\n",
    "### ARCH 模型\n",
    "\n",
    "ARCH模型即自回归条件异方差模型，是一种用来处理时间序列的模型。在股票中，ARCH可以用来预测股票的波动率，从而控制风险。粗略地说，该模型将当前一切可利用信息作为条件，并采用某种自回归形式来刻画方差的变异，对于一个时间序列而言，在不同时刻可利用的信息不同，而相应的条件方差也不同，利用ARCH模型，可以刻画出随时间而变异的条件方差。ARCH模型解决了LogNormal和AR被诟病的波动率恒定问题。这里我们同样使用一阶条件异方差模型对样本数据进行拟合，函数表达式为 $$Y_t=\\mu+\\sigma_t \\varepsilon_t$$ \n",
    "其中 $\\sigma_t^2=a_0+a_1(Y_(t-1)-\\mu)^2$。"
   ]
  },
  {
   "cell_type": "code",
   "execution_count": 4,
   "metadata": {},
   "outputs": [
    {
     "name": "stdout",
     "output_type": "stream",
     "text": [
      "Optimization terminated successfully    (Exit mode 0)\n",
      "            Current function value: -7217.643023614901\n",
      "            Iterations: 5\n",
      "            Function evaluations: 49\n",
      "            Gradient evaluations: 4\n",
      "                      Constant Mean - ARCH Model Results                      \n",
      "==============================================================================\n",
      "Dep. Variable:                 收盘价(元)   R-squared:                       0.000\n",
      "Mean Model:             Constant Mean   Adj. R-squared:                  0.000\n",
      "Vol Model:                       ARCH   Log-Likelihood:                7217.64\n",
      "Distribution:                  Normal   AIC:                          -14429.3\n",
      "Method:            Maximum Likelihood   BIC:                          -14411.4\n",
      "                                        No. Observations:                 2918\n",
      "Date:                Sun, Jun 19 2022   Df Residuals:                     2917\n",
      "Time:                        21:51:29   Df Model:                            1\n",
      "                                  Mean Model                                 \n",
      "=============================================================================\n",
      "                 coef    std err          t      P>|t|       95.0% Conf. Int.\n",
      "-----------------------------------------------------------------------------\n",
      "mu         4.0145e-04  3.892e-04      1.031      0.302 [-3.615e-04,1.164e-03]\n",
      "                              Volatility Model                              \n",
      "============================================================================\n",
      "                 coef    std err          t      P>|t|      95.0% Conf. Int.\n",
      "----------------------------------------------------------------------------\n",
      "omega      1.9382e-04  6.705e-06     28.905 1.019e-183 [1.807e-04,2.070e-04]\n",
      "alpha[1]       0.2000  2.456e-02      8.143  3.842e-16     [  0.152,  0.248]\n",
      "============================================================================\n",
      "\n",
      "Covariance estimator: robust\n"
     ]
    },
    {
     "data": {
      "text/html": [
       "<div>\n",
       "<style scoped>\n",
       "    .dataframe tbody tr th:only-of-type {\n",
       "        vertical-align: middle;\n",
       "    }\n",
       "\n",
       "    .dataframe tbody tr th {\n",
       "        vertical-align: top;\n",
       "    }\n",
       "\n",
       "    .dataframe thead th {\n",
       "        text-align: right;\n",
       "    }\n",
       "</style>\n",
       "<table border=\"1\" class=\"dataframe\">\n",
       "  <thead>\n",
       "    <tr style=\"text-align: right;\">\n",
       "      <th></th>\n",
       "      <th>k</th>\n",
       "      <th>log(L)</th>\n",
       "      <th>AIC</th>\n",
       "      <th>SBC</th>\n",
       "    </tr>\n",
       "  </thead>\n",
       "  <tbody>\n",
       "    <tr>\n",
       "      <th>LN</th>\n",
       "      <td>2.0</td>\n",
       "      <td>7320.588555</td>\n",
       "      <td>7318.588555</td>\n",
       "      <td>7312.609901</td>\n",
       "    </tr>\n",
       "    <tr>\n",
       "      <th>AR(1)</th>\n",
       "      <td>3.0</td>\n",
       "      <td>7325.165137</td>\n",
       "      <td>7322.165137</td>\n",
       "      <td>7313.197156</td>\n",
       "    </tr>\n",
       "    <tr>\n",
       "      <th>ARCH</th>\n",
       "      <td>3.0</td>\n",
       "      <td>7217.643024</td>\n",
       "      <td>7214.643024</td>\n",
       "      <td>7205.675043</td>\n",
       "    </tr>\n",
       "  </tbody>\n",
       "</table>\n",
       "</div>"
      ],
      "text/plain": [
       "         k       log(L)          AIC          SBC\n",
       "LN     2.0  7320.588555  7318.588555  7312.609901\n",
       "AR(1)  3.0  7325.165137  7322.165137  7313.197156\n",
       "ARCH   3.0  7217.643024  7214.643024  7205.675043"
      ]
     },
     "execution_count": 4,
     "metadata": {},
     "output_type": "execute_result"
    }
   ],
   "source": [
    "arch = arch_model(log, p=1, q=0, rescale=False).fit(update_freq=0)\n",
    "k, logl = 3, arch.loglikelihood\n",
    "print(arch.summary())\n",
    "result[\"ARCH\"] = {\n",
    "    \"k\":k,\n",
    "    \"log(L)\": logl,\n",
    "    \"AIC\": logl - k,\n",
    "    \"SBC\": logl - k * np.log(log.shape[0]) / 2,\n",
    "}\n",
    "pd.DataFrame(result).T"
   ]
  },
  {
   "cell_type": "markdown",
   "metadata": {},
   "source": [
    "### GARCH 模型\n",
    "\n",
    "GARCH模型，即广义ARCH模型，它是对ARCH模型的进一步扩展。它同时考虑了序列相关和条件方差，对误差的方差进行了进一步建模，具有更强的灵活性。本文选择 $GARCH(1,1)$ 模型对历史数据进行拟合。\n",
    "\n",
    "根据拟合结果可知，对数似然函数值为 7557.05，AIC为 7553.0492，SBC为 7541.0919。"
   ]
  },
  {
   "cell_type": "code",
   "execution_count": 5,
   "metadata": {},
   "outputs": [
    {
     "name": "stdout",
     "output_type": "stream",
     "text": [
      "Optimization terminated successfully    (Exit mode 0)\n",
      "            Current function value: -7557.049208972082\n",
      "            Iterations: 7\n",
      "            Function evaluations: 32\n",
      "            Gradient evaluations: 3\n",
      "                     Constant Mean - GARCH Model Results                      \n",
      "==============================================================================\n",
      "Dep. Variable:                 收盘价(元)   R-squared:                       0.000\n",
      "Mean Model:             Constant Mean   Adj. R-squared:                  0.000\n",
      "Vol Model:                      GARCH   Log-Likelihood:                7557.05\n",
      "Distribution:                  Normal   AIC:                          -15106.1\n",
      "Method:            Maximum Likelihood   BIC:                          -15082.2\n",
      "                                        No. Observations:                 2918\n",
      "Date:                Sun, Jun 19 2022   Df Residuals:                     2917\n",
      "Time:                        21:51:29   Df Model:                            1\n",
      "                                 Mean Model                                 \n",
      "============================================================================\n",
      "                 coef    std err          t      P>|t|      95.0% Conf. Int.\n",
      "----------------------------------------------------------------------------\n",
      "mu         1.7486e-04  2.550e-06     68.582      0.000 [1.699e-04,1.799e-04]\n",
      "                              Volatility Model                              \n",
      "============================================================================\n",
      "                 coef    std err          t      P>|t|      95.0% Conf. Int.\n",
      "----------------------------------------------------------------------------\n",
      "omega      7.7533e-06  3.884e-11  1.996e+05      0.000 [7.753e-06,7.753e-06]\n",
      "alpha[1]       0.0500  6.240e-03      8.013  1.120e-15 [3.777e-02,6.223e-02]\n",
      "beta[1]        0.9300  5.660e-03    164.301      0.000     [  0.919,  0.941]\n",
      "============================================================================\n",
      "\n",
      "Covariance estimator: robust\n"
     ]
    },
    {
     "data": {
      "text/html": [
       "<div>\n",
       "<style scoped>\n",
       "    .dataframe tbody tr th:only-of-type {\n",
       "        vertical-align: middle;\n",
       "    }\n",
       "\n",
       "    .dataframe tbody tr th {\n",
       "        vertical-align: top;\n",
       "    }\n",
       "\n",
       "    .dataframe thead th {\n",
       "        text-align: right;\n",
       "    }\n",
       "</style>\n",
       "<table border=\"1\" class=\"dataframe\">\n",
       "  <thead>\n",
       "    <tr style=\"text-align: right;\">\n",
       "      <th></th>\n",
       "      <th>k</th>\n",
       "      <th>log(L)</th>\n",
       "      <th>AIC</th>\n",
       "      <th>SBC</th>\n",
       "    </tr>\n",
       "  </thead>\n",
       "  <tbody>\n",
       "    <tr>\n",
       "      <th>LN</th>\n",
       "      <td>2.0</td>\n",
       "      <td>7320.588555</td>\n",
       "      <td>7318.588555</td>\n",
       "      <td>7312.609901</td>\n",
       "    </tr>\n",
       "    <tr>\n",
       "      <th>AR(1)</th>\n",
       "      <td>3.0</td>\n",
       "      <td>7325.165137</td>\n",
       "      <td>7322.165137</td>\n",
       "      <td>7313.197156</td>\n",
       "    </tr>\n",
       "    <tr>\n",
       "      <th>ARCH</th>\n",
       "      <td>3.0</td>\n",
       "      <td>7217.643024</td>\n",
       "      <td>7214.643024</td>\n",
       "      <td>7205.675043</td>\n",
       "    </tr>\n",
       "    <tr>\n",
       "      <th>GARCH</th>\n",
       "      <td>4.0</td>\n",
       "      <td>7557.049209</td>\n",
       "      <td>7553.049209</td>\n",
       "      <td>7541.091902</td>\n",
       "    </tr>\n",
       "  </tbody>\n",
       "</table>\n",
       "</div>"
      ],
      "text/plain": [
       "         k       log(L)          AIC          SBC\n",
       "LN     2.0  7320.588555  7318.588555  7312.609901\n",
       "AR(1)  3.0  7325.165137  7322.165137  7313.197156\n",
       "ARCH   3.0  7217.643024  7214.643024  7205.675043\n",
       "GARCH  4.0  7557.049209  7553.049209  7541.091902"
      ]
     },
     "execution_count": 5,
     "metadata": {},
     "output_type": "execute_result"
    }
   ],
   "source": [
    "garch = arch_model(log, p=1, q=1, rescale=False).fit(update_freq=0)\n",
    "k, logl = 4, garch.loglikelihood\n",
    "print(garch.summary())\n",
    "result[\"GARCH\"] = {\n",
    "    \"k\":k,\n",
    "    \"log(L)\": logl,\n",
    "    \"AIC\": logl - k,\n",
    "    \"SBC\": logl - k * np.log(log.shape[0]) / 2,\n",
    "}\n",
    "pd.DataFrame(result).T"
   ]
  },
  {
   "cell_type": "markdown",
   "metadata": {},
   "source": [
    "### RSLN-2\n",
    "\n",
    "RSLN 模型本质是马尔可夫状态转移模型，因而我们参考[statsmodels 文档](https://www.statsmodels.org/dev/generated/statsmodels.tsa.regime_switching.markov_regression.MarkovRegression.html)，令两 regime 分布异方差，回归结果如下表，显示异方差的确存在(不同状态下的方差影响显著)。\n",
    "\n",
    "同样，我们提取似然函数对数，并计算 $AIC$、$SBC$"
   ]
  },
  {
   "cell_type": "code",
   "execution_count": 6,
   "metadata": {},
   "outputs": [
    {
     "name": "stdout",
     "output_type": "stream",
     "text": [
      "                        Markov Switching Model Results                        \n",
      "==============================================================================\n",
      "Dep. Variable:                      y   No. Observations:                 2918\n",
      "Model:               MarkovRegression   Log Likelihood                7525.435\n",
      "Date:                Sun, 19 Jun 2022   AIC                         -15038.871\n",
      "Time:                        21:51:30   BIC                         -15002.999\n",
      "Sample:                             0   HQIC                        -15025.949\n",
      "                               - 2918                                         \n",
      "Covariance Type:               approx                                         \n",
      "                             Regime 0 parameters                              \n",
      "==============================================================================\n",
      "                 coef    std err          z      P>|z|      [0.025      0.975]\n",
      "------------------------------------------------------------------------------\n",
      "const          0.0008      0.000      2.180      0.029    7.74e-05       0.001\n",
      "sigma2         0.0002   1.09e-05     21.250      0.000       0.000       0.000\n",
      "                             Regime 1 parameters                              \n",
      "==============================================================================\n",
      "                 coef    std err          z      P>|z|      [0.025      0.975]\n",
      "------------------------------------------------------------------------------\n",
      "const         -0.0013      0.001     -0.944      0.345      -0.004       0.001\n",
      "sigma2         0.0009   8.08e-05     11.696      0.000       0.001       0.001\n",
      "                         Regime transition parameters                         \n",
      "==============================================================================\n",
      "                 coef    std err          z      P>|z|      [0.025      0.975]\n",
      "------------------------------------------------------------------------------\n",
      "p[0->0]        0.9869      0.004    246.875      0.000       0.979       0.995\n",
      "p[1->0]        0.0462      0.013      3.531      0.000       0.021       0.072\n",
      "==============================================================================\n",
      "\n",
      "Warnings:\n",
      "[1] Covariance matrix calculated using numerical (complex-step) differentiation.\n"
     ]
    },
    {
     "data": {
      "text/html": [
       "<div>\n",
       "<style scoped>\n",
       "    .dataframe tbody tr th:only-of-type {\n",
       "        vertical-align: middle;\n",
       "    }\n",
       "\n",
       "    .dataframe tbody tr th {\n",
       "        vertical-align: top;\n",
       "    }\n",
       "\n",
       "    .dataframe thead th {\n",
       "        text-align: right;\n",
       "    }\n",
       "</style>\n",
       "<table border=\"1\" class=\"dataframe\">\n",
       "  <thead>\n",
       "    <tr style=\"text-align: right;\">\n",
       "      <th></th>\n",
       "      <th>k</th>\n",
       "      <th>log(L)</th>\n",
       "      <th>AIC</th>\n",
       "      <th>SBC</th>\n",
       "      <th>LRT</th>\n",
       "    </tr>\n",
       "  </thead>\n",
       "  <tbody>\n",
       "    <tr>\n",
       "      <th>LN</th>\n",
       "      <td>2.0</td>\n",
       "      <td>7320.588555</td>\n",
       "      <td>7318.588555</td>\n",
       "      <td>7312.609901</td>\n",
       "      <td>NaN</td>\n",
       "    </tr>\n",
       "    <tr>\n",
       "      <th>AR(1)</th>\n",
       "      <td>3.0</td>\n",
       "      <td>7325.165137</td>\n",
       "      <td>7322.165137</td>\n",
       "      <td>7313.197156</td>\n",
       "      <td>NaN</td>\n",
       "    </tr>\n",
       "    <tr>\n",
       "      <th>ARCH</th>\n",
       "      <td>3.0</td>\n",
       "      <td>7217.643024</td>\n",
       "      <td>7214.643024</td>\n",
       "      <td>7205.675043</td>\n",
       "      <td>NaN</td>\n",
       "    </tr>\n",
       "    <tr>\n",
       "      <th>GARCH</th>\n",
       "      <td>4.0</td>\n",
       "      <td>7557.049209</td>\n",
       "      <td>7553.049209</td>\n",
       "      <td>7541.091902</td>\n",
       "      <td>NaN</td>\n",
       "    </tr>\n",
       "    <tr>\n",
       "      <th>RSLN-2</th>\n",
       "      <td>6.0</td>\n",
       "      <td>7525.435364</td>\n",
       "      <td>7519.435364</td>\n",
       "      <td>7501.499403</td>\n",
       "      <td>NaN</td>\n",
       "    </tr>\n",
       "  </tbody>\n",
       "</table>\n",
       "</div>"
      ],
      "text/plain": [
       "          k       log(L)          AIC          SBC  LRT\n",
       "LN      2.0  7320.588555  7318.588555  7312.609901  NaN\n",
       "AR(1)   3.0  7325.165137  7322.165137  7313.197156  NaN\n",
       "ARCH    3.0  7217.643024  7214.643024  7205.675043  NaN\n",
       "GARCH   4.0  7557.049209  7553.049209  7541.091902  NaN\n",
       "RSLN-2  6.0  7525.435364  7519.435364  7501.499403  NaN"
      ]
     },
     "execution_count": 6,
     "metadata": {},
     "output_type": "execute_result"
    }
   ],
   "source": [
    "rsln = MarkovRegression(log.values, 2, switching_variance=True).fit()  # 异方差\n",
    "k, logl = 6, rsln.llf\n",
    "print(rsln.summary())\n",
    "result[\"RSLN-2\"] = {\n",
    "    \"k\": k,\n",
    "    \"log(L)\": logl,\n",
    "    \"AIC\": logl - k,\n",
    "    \"SBC\": logl - k * np.log(log.shape[0]) / 2,\n",
    "    \"LRT\": None,\n",
    "}\n",
    "pd.DataFrame(result).T"
   ]
  },
  {
   "cell_type": "markdown",
   "metadata": {},
   "source": [
    "### Likelihood Ratio Test\n",
    "\n",
    "不同似然函数对比采用 $\\chi^2$ 检验，以 lognormal 模型为基准进行 LRT 检验，结果如下表显示。综合似然函数最大值、$AIC$、$SBC$ 与 $LRT$ 检验值，GARCH 模型的似然函数、$AIC$、$SBC$ 最大，且相较于 lognormal 模型效果提升显著。"
   ]
  },
  {
   "cell_type": "code",
   "execution_count": 7,
   "metadata": {},
   "outputs": [
    {
     "data": {
      "text/html": [
       "<div>\n",
       "<style scoped>\n",
       "    .dataframe tbody tr th:only-of-type {\n",
       "        vertical-align: middle;\n",
       "    }\n",
       "\n",
       "    .dataframe tbody tr th {\n",
       "        vertical-align: top;\n",
       "    }\n",
       "\n",
       "    .dataframe thead th {\n",
       "        text-align: right;\n",
       "    }\n",
       "</style>\n",
       "<table border=\"1\" class=\"dataframe\">\n",
       "  <thead>\n",
       "    <tr style=\"text-align: right;\">\n",
       "      <th></th>\n",
       "      <th>k</th>\n",
       "      <th>log(L)</th>\n",
       "      <th>AIC</th>\n",
       "      <th>SBC</th>\n",
       "      <th>LRT</th>\n",
       "    </tr>\n",
       "  </thead>\n",
       "  <tbody>\n",
       "    <tr>\n",
       "      <th>LN</th>\n",
       "      <td>2.0</td>\n",
       "      <td>7320.588555</td>\n",
       "      <td>7318.588555</td>\n",
       "      <td>7312.609901</td>\n",
       "      <td>NaN</td>\n",
       "    </tr>\n",
       "    <tr>\n",
       "      <th>AR(1)</th>\n",
       "      <td>3.0</td>\n",
       "      <td>7325.165137</td>\n",
       "      <td>7322.165137</td>\n",
       "      <td>7313.197156</td>\n",
       "      <td>3.241181e-02</td>\n",
       "    </tr>\n",
       "    <tr>\n",
       "      <th>ARCH</th>\n",
       "      <td>3.0</td>\n",
       "      <td>7217.643024</td>\n",
       "      <td>7214.643024</td>\n",
       "      <td>7205.675043</td>\n",
       "      <td>1.000000e+00</td>\n",
       "    </tr>\n",
       "    <tr>\n",
       "      <th>GARCH</th>\n",
       "      <td>4.0</td>\n",
       "      <td>7557.049209</td>\n",
       "      <td>7553.049209</td>\n",
       "      <td>7541.091902</td>\n",
       "      <td>4.500092e-52</td>\n",
       "    </tr>\n",
       "    <tr>\n",
       "      <th>RSLN-2</th>\n",
       "      <td>6.0</td>\n",
       "      <td>7525.435364</td>\n",
       "      <td>7519.435364</td>\n",
       "      <td>7501.499403</td>\n",
       "      <td>3.409568e-43</td>\n",
       "    </tr>\n",
       "  </tbody>\n",
       "</table>\n",
       "</div>"
      ],
      "text/plain": [
       "          k       log(L)          AIC          SBC           LRT\n",
       "LN      2.0  7320.588555  7318.588555  7312.609901           NaN\n",
       "AR(1)   3.0  7325.165137  7322.165137  7313.197156  3.241181e-02\n",
       "ARCH    3.0  7217.643024  7214.643024  7205.675043  1.000000e+00\n",
       "GARCH   4.0  7557.049209  7553.049209  7541.091902  4.500092e-52\n",
       "RSLN-2  6.0  7525.435364  7519.435364  7501.499403  3.409568e-43"
      ]
     },
     "execution_count": 7,
     "metadata": {},
     "output_type": "execute_result"
    }
   ],
   "source": [
    "basemodel = \"LN\"\n",
    "for model in result:\n",
    "    if model == basemodel:\n",
    "        continue\n",
    "    result[model][\"LRT\"] = chi2.sf(\n",
    "        result[model][\"log(L)\"] - result[basemodel][\"log(L)\"],\n",
    "        result[model][\"k\"] - result[basemodel][\"k\"],\n",
    "    )\n",
    "pd.DataFrame(result).T"
   ]
  },
  {
   "cell_type": "markdown",
   "metadata": {},
   "source": [
    "## 第二题\n",
    "\n",
    "对比五个模型的SBC和AIC数值，我们认为GARCH模型是最优的。因此，下文选择GARCH模型来估计投资组合的未来走势与市场风险。\n",
    "\n",
    "我们使用VaR和ES来描述模拟分布的市场风险，分别探讨了置信水平为99%、95%和90%三种情况，最终得到使用GARCH模型进行蒙特卡洛模拟时，99%置信水平下的单周收益率VaR=-22.05%，对应的ES=-26.16%；95%置信水平下的单周收益率VaR=-15.17%，对应的ES=-19.54%；90%置信水平下的单周收益率VaR=-11.80%，对应的ES=-16.46%。"
   ]
  },
  {
   "cell_type": "code",
   "execution_count": 8,
   "metadata": {},
   "outputs": [
    {
     "name": "stdout",
     "output_type": "stream",
     "text": [
      "simulating 0.0 %\n",
      "simulating 10.0 %\n",
      "simulating 20.0 %\n",
      "simulating 30.0 %\n",
      "simulating 40.0 %\n",
      "simulating 50.0 %\n",
      "simulating 60.0 %\n",
      "simulating 70.0 %\n",
      "simulating 80.0 %\n",
      "simulating 90.0 %\n"
     ]
    }
   ],
   "source": [
    "monte_carlo = {}\n",
    "np.random.RandomState(42)\n",
    "cases = 10000\n",
    "for case in range(cases):\n",
    "    if (case*10) % cases == 0:\n",
    "        print(\"simulating\",case/cases*100, \"%\")\n",
    "    sim_model = arch_model(None, p=1, q=1)\n",
    "    simulation = sim_model.simulate(garch.params, 26)\n",
    "    monte_carlo[case] = np.prod(1 + simulation[\"data\"])"
   ]
  },
  {
   "cell_type": "code",
   "execution_count": 9,
   "metadata": {},
   "outputs": [
    {
     "data": {
      "text/html": [
       "<div>\n",
       "<style scoped>\n",
       "    .dataframe tbody tr th:only-of-type {\n",
       "        vertical-align: middle;\n",
       "    }\n",
       "\n",
       "    .dataframe tbody tr th {\n",
       "        vertical-align: top;\n",
       "    }\n",
       "\n",
       "    .dataframe thead th {\n",
       "        text-align: right;\n",
       "    }\n",
       "</style>\n",
       "<table border=\"1\" class=\"dataframe\">\n",
       "  <thead>\n",
       "    <tr style=\"text-align: right;\">\n",
       "      <th></th>\n",
       "      <th>es</th>\n",
       "      <th>var</th>\n",
       "    </tr>\n",
       "  </thead>\n",
       "  <tbody>\n",
       "    <tr>\n",
       "      <th>0.01</th>\n",
       "      <td>-0.250849</td>\n",
       "      <td>-0.215908</td>\n",
       "    </tr>\n",
       "    <tr>\n",
       "      <th>0.05</th>\n",
       "      <td>-0.191792</td>\n",
       "      <td>-0.151696</td>\n",
       "    </tr>\n",
       "    <tr>\n",
       "      <th>0.10</th>\n",
       "      <td>-0.162042</td>\n",
       "      <td>-0.116101</td>\n",
       "    </tr>\n",
       "  </tbody>\n",
       "</table>\n",
       "</div>"
      ],
      "text/plain": [
       "            es       var\n",
       "0.01 -0.250849 -0.215908\n",
       "0.05 -0.191792 -0.151696\n",
       "0.10 -0.162042 -0.116101"
      ]
     },
     "execution_count": 9,
     "metadata": {},
     "output_type": "execute_result"
    }
   ],
   "source": [
    "monte_carlo = pd.Series(monte_carlo)\n",
    "var = pd.Series(monte_carlo).quantile([0.01, 0.05, 0.1])\n",
    "es = var.apply(lambda x: monte_carlo[monte_carlo < x].mean())\n",
    "pd.DataFrame({\"es\": es - 1, \"var\": var - 1})"
   ]
  },
  {
   "cell_type": "markdown",
   "metadata": {},
   "source": [
    "\\bibliographystyle{plain}\n",
    "\\bibliography{ref}"
   ]
  }
 ],
 "metadata": {
  "interpreter": {
   "hash": "4f288aa199d99f1c9473740f63828859a8d749ffd51bd0ec7038da9c41203625"
  },
  "kernelspec": {
   "display_name": "Python 3.10.4 ('.venv': poetry)",
   "language": "python",
   "name": "python3"
  },
  "language_info": {
   "codemirror_mode": {
    "name": "ipython",
    "version": 3
   },
   "file_extension": ".py",
   "mimetype": "text/x-python",
   "name": "python",
   "nbconvert_exporter": "python",
   "pygments_lexer": "ipython3",
   "version": "3.10.4"
  },
  "orig_nbformat": 4
 },
 "nbformat": 4,
 "nbformat_minor": 2
}
