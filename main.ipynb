{
 "cells": [
  {
   "cell_type": "markdown",
   "metadata": {},
   "source": [
    "# 风管模型第三次作业\n",
    "\n",
    "\\author{\n",
    "    董晨阳 \\thanks{学号1800015446} \n",
    "    李昭伦 \\thanks{学号1800015469}\n",
    "    许天朗 \\thanks{学号1800015428}\n",
    "}\n",
    "\n"
   ]
  },
  {
   "cell_type": "markdown",
   "metadata": {},
   "source": [
    "## 单个公司的 KMV 模型\n",
    "\n",
    "### 假设\n",
    "\n",
    "- 市场的无风险利率为3%\n",
    "- 公司的违约实施点为企业1年以下短期债务的价值加上未清偿长期债务账面价值的一半\n",
    "- 贷款期限一年\n",
    "- 当公司发生违约时，违约回收率为0，即全部贷款均不能回收。\n",
    "- 贷款利率为包括流动性溢价和信用溢价，分别用无风险利率和预期违约率$\\times$100表示，即贷款利率 = 无风险利率 + 预期违约率 $\\times$ 100\n",
    "\n",
    "### 计算股票价格波动率\n",
    "\n",
    "我们选取了三家上市公司，分别为比亚迪，三一重工，宁德时代，比亚迪为汽车厂商，三一重工为国有大型装备制造厂商，宁德时代为我国新能源电池领头企业，三家厂商都具备较好的现金流以及信用背书，因此是我们选取的贷款对象。\n",
    "\n",
    "根据三家公司的历史股价数据，我们计算出三家厂商的股票波动率。"
   ]
  },
  {
   "cell_type": "code",
   "execution_count": 1,
   "metadata": {},
   "outputs": [
    {
     "data": {
      "text/html": [
       "<div>\n",
       "<style scoped>\n",
       "    .dataframe tbody tr th:only-of-type {\n",
       "        vertical-align: middle;\n",
       "    }\n",
       "\n",
       "    .dataframe tbody tr th {\n",
       "        vertical-align: top;\n",
       "    }\n",
       "\n",
       "    .dataframe thead th {\n",
       "        text-align: right;\n",
       "    }\n",
       "</style>\n",
       "<table border=\"1\" class=\"dataframe\">\n",
       "  <thead>\n",
       "    <tr style=\"text-align: right;\">\n",
       "      <th></th>\n",
       "      <th>比亚迪</th>\n",
       "      <th>三一重工</th>\n",
       "      <th>宁德时代</th>\n",
       "    </tr>\n",
       "    <tr>\n",
       "      <th>时间</th>\n",
       "      <th></th>\n",
       "      <th></th>\n",
       "      <th></th>\n",
       "    </tr>\n",
       "  </thead>\n",
       "  <tbody>\n",
       "    <tr>\n",
       "      <th>2021-05-31</th>\n",
       "      <td>-0.01640</td>\n",
       "      <td>-0.00689</td>\n",
       "      <td>0.05981</td>\n",
       "    </tr>\n",
       "    <tr>\n",
       "      <th>2021-06-01</th>\n",
       "      <td>0.06021</td>\n",
       "      <td>0.04391</td>\n",
       "      <td>-0.02018</td>\n",
       "    </tr>\n",
       "    <tr>\n",
       "      <th>2021-06-02</th>\n",
       "      <td>-0.01562</td>\n",
       "      <td>-0.01581</td>\n",
       "      <td>-0.00197</td>\n",
       "    </tr>\n",
       "    <tr>\n",
       "      <th>2021-06-03</th>\n",
       "      <td>-0.01394</td>\n",
       "      <td>-0.00868</td>\n",
       "      <td>-0.02290</td>\n",
       "    </tr>\n",
       "    <tr>\n",
       "      <th>2021-06-04</th>\n",
       "      <td>0.02991</td>\n",
       "      <td>-0.01621</td>\n",
       "      <td>0.04202</td>\n",
       "    </tr>\n",
       "    <tr>\n",
       "      <th>...</th>\n",
       "      <td>...</td>\n",
       "      <td>...</td>\n",
       "      <td>...</td>\n",
       "    </tr>\n",
       "    <tr>\n",
       "      <th>2022-05-23</th>\n",
       "      <td>0.02607</td>\n",
       "      <td>-0.01145</td>\n",
       "      <td>-0.02389</td>\n",
       "    </tr>\n",
       "    <tr>\n",
       "      <th>2022-05-24</th>\n",
       "      <td>-0.04810</td>\n",
       "      <td>-0.02622</td>\n",
       "      <td>-0.03518</td>\n",
       "    </tr>\n",
       "    <tr>\n",
       "      <th>2022-05-25</th>\n",
       "      <td>0.02206</td>\n",
       "      <td>0.01816</td>\n",
       "      <td>-0.00761</td>\n",
       "    </tr>\n",
       "    <tr>\n",
       "      <th>2022-05-26</th>\n",
       "      <td>-0.00195</td>\n",
       "      <td>0.05105</td>\n",
       "      <td>-0.02248</td>\n",
       "    </tr>\n",
       "    <tr>\n",
       "      <th>2022-05-27</th>\n",
       "      <td>0.00781</td>\n",
       "      <td>-0.00644</td>\n",
       "      <td>0.01126</td>\n",
       "    </tr>\n",
       "  </tbody>\n",
       "</table>\n",
       "<p>241 rows × 3 columns</p>\n",
       "</div>"
      ],
      "text/plain": [
       "                比亚迪     三一重工     宁德时代\n",
       "时间                                   \n",
       "2021-05-31 -0.01640 -0.00689  0.05981\n",
       "2021-06-01  0.06021  0.04391 -0.02018\n",
       "2021-06-02 -0.01562 -0.01581 -0.00197\n",
       "2021-06-03 -0.01394 -0.00868 -0.02290\n",
       "2021-06-04  0.02991 -0.01621  0.04202\n",
       "...             ...      ...      ...\n",
       "2022-05-23  0.02607 -0.01145 -0.02389\n",
       "2022-05-24 -0.04810 -0.02622 -0.03518\n",
       "2022-05-25  0.02206  0.01816 -0.00761\n",
       "2022-05-26 -0.00195  0.05105 -0.02248\n",
       "2022-05-27  0.00781 -0.00644  0.01126\n",
       "\n",
       "[241 rows x 3 columns]"
      ]
     },
     "execution_count": 1,
     "metadata": {},
     "output_type": "execute_result"
    }
   ],
   "source": [
    "import glob\n",
    "\n",
    "import numpy as np\n",
    "import pandas as pd\n",
    "from arch import arch_model\n",
    "from scipy import optimize, stats\n",
    "\n",
    "companies = glob.glob(\"lib/trade/*.xlsx\")\n",
    "result = {}\n",
    "rate = {}\n",
    "for company in companies:\n",
    "    df = pd.read_excel(company, index_col=0, skiprows=1).dropna()\n",
    "    company = company.split(\"/\")[-1].split(\"[\")[0]\n",
    "    result[company] = {\n",
    "        \"V\": df[\"总市值\"].apply(lambda x: float(x.replace(\",\", \"\"))) * 10000\n",
    "    }\n",
    "    rate[company] = df[\"涨跌幅\"] / 100\n",
    "rate = pd.DataFrame(rate).sort_index()\n",
    "rate"
   ]
  },
  {
   "cell_type": "markdown",
   "metadata": {},
   "source": [
    "### 利用 garch 模型计算相关系数与协方差阵\n",
    "\n",
    "假设三只股票的收益率服从GARCH (1,1)，然后算出得到标的资产组合的协方差矩阵和相关阵。"
   ]
  },
  {
   "cell_type": "code",
   "execution_count": 2,
   "metadata": {},
   "outputs": [
    {
     "name": "stdout",
     "output_type": "stream",
     "text": [
      "Optimization terminated successfully    (Exit mode 0)\n",
      "            Current function value: 453.2454385636138\n",
      "            Iterations: 9\n",
      "            Function evaluations: 52\n",
      "            Gradient evaluations: 9\n",
      "omega       1.013957\n",
      "alpha[1]    0.394410\n",
      "beta[1]     0.357892\n",
      "Name: params, dtype: float64\n",
      "Optimization terminated successfully    (Exit mode 0)\n",
      "            Current function value: 414.9418317447397\n",
      "            Iterations: 12\n",
      "            Function evaluations: 71\n",
      "            Gradient evaluations: 12\n",
      "omega       0.125768\n",
      "alpha[1]    0.013494\n",
      "beta[1]     0.925568\n",
      "Name: params, dtype: float64\n",
      "Optimization terminated successfully    (Exit mode 0)\n",
      "            Current function value: 430.04829969656976\n",
      "            Iterations: 9\n",
      "            Function evaluations: 56\n",
      "            Gradient evaluations: 9\n",
      "omega       0.278986\n",
      "alpha[1]    0.033904\n",
      "beta[1]     0.838805\n",
      "Name: params, dtype: float64\n"
     ]
    },
    {
     "data": {
      "text/html": [
       "<div>\n",
       "<style scoped>\n",
       "    .dataframe tbody tr th:only-of-type {\n",
       "        vertical-align: middle;\n",
       "    }\n",
       "\n",
       "    .dataframe tbody tr th {\n",
       "        vertical-align: top;\n",
       "    }\n",
       "\n",
       "    .dataframe thead th {\n",
       "        text-align: right;\n",
       "    }\n",
       "</style>\n",
       "<table border=\"1\" class=\"dataframe\">\n",
       "  <thead>\n",
       "    <tr style=\"text-align: right;\">\n",
       "      <th></th>\n",
       "      <th>比亚迪</th>\n",
       "      <th>三一重工</th>\n",
       "      <th>宁德时代</th>\n",
       "    </tr>\n",
       "  </thead>\n",
       "  <tbody>\n",
       "    <tr>\n",
       "      <th>比亚迪</th>\n",
       "      <td>1.000000</td>\n",
       "      <td>0.828724</td>\n",
       "      <td>0.829693</td>\n",
       "    </tr>\n",
       "    <tr>\n",
       "      <th>宁德时代</th>\n",
       "      <td>0.829693</td>\n",
       "      <td>0.765473</td>\n",
       "      <td>1.000000</td>\n",
       "    </tr>\n",
       "    <tr>\n",
       "      <th>三一重工</th>\n",
       "      <td>0.828724</td>\n",
       "      <td>1.000000</td>\n",
       "      <td>0.765473</td>\n",
       "    </tr>\n",
       "  </tbody>\n",
       "</table>\n",
       "</div>"
      ],
      "text/plain": [
       "           比亚迪      三一重工      宁德时代\n",
       "比亚迪   1.000000  0.828724  0.829693\n",
       "宁德时代  0.829693  0.765473  1.000000\n",
       "三一重工  0.828724  1.000000  0.765473"
      ]
     },
     "execution_count": 2,
     "metadata": {},
     "output_type": "execute_result"
    }
   ],
   "source": [
    "cov = {}\n",
    "var = {}\n",
    "r2 = {}\n",
    "rate = rate.dropna()\n",
    "for company in companies:\n",
    "    company = company.split(\"/\")[-1].split(\"[\")[0]\n",
    "    r2[company] = {}\n",
    "    cross = rate[company] * rate[company] * 1000\n",
    "    arch = arch_model(cross)\n",
    "    arch_param = arch.fit(update_freq=0)\n",
    "    var[company] = (arch_param.forecast(reindex=True).variance.values[-1][0]) / 1000\n",
    "    parameters = arch_param.params[1:]\n",
    "    cross = rate[[i for i in rate.columns if i != company]].prod(axis=1)\n",
    "    covlist = [cross[0]]*1000\n",
    "    print(parameters)\n",
    "    for j in range(1, len(cross)):\n",
    "        covlist.append(parameters[0] + parameters[1] * cross[j] + parameters[2] * covlist[-1])\n",
    "    cov[company] = covlist[-1]/1000\n",
    "covar = {i: {} for i in cov}\n",
    "for company in cov:\n",
    "    r2[company][company] = 1\n",
    "    covar[company][company] = var[company]\n",
    "    others = tuple(i for i in cov if i != company)\n",
    "    r2[others[0]][others[1]] = cov[company] / (\n",
    "        var[others[0]] ** 0.5 * var[others[1]] ** 0.5\n",
    "    )\n",
    "    r2[others[1]][others[0]] = r2[others[0]][others[1]]\n",
    "    covar[others[0]][others[1]] = cov[company] ** 0.5\n",
    "    covar[others[1]][others[0]] = cov[company] ** 0.5\n",
    "corr = pd.DataFrame(r2)\n",
    "cov = pd.DataFrame(covar)\n",
    "corr"
   ]
  },
  {
   "cell_type": "markdown",
   "metadata": {},
   "source": [
    "### 计算违约点"
   ]
  },
  {
   "cell_type": "code",
   "execution_count": 3,
   "metadata": {},
   "outputs": [
    {
     "data": {
      "text/plain": [
       "{'比亚迪': 20064279.95, '三一重工': 7162113.5, '宁德时代': 24339099.135}"
      ]
     },
     "execution_count": 3,
     "metadata": {},
     "output_type": "execute_result"
    }
   ],
   "source": [
    "companies = glob.glob(\"lib/balance/*.xlsx\")\n",
    "for company in companies:\n",
    "    df = (\n",
    "        pd.read_excel(company, index_col=0, skipfooter=4)\n",
    "        .T.rename(columns=lambda x: x.strip())\n",
    "        .head(1)\n",
    "    )\n",
    "    company = company.split(\"/\")[-1].split(\"[\")[0]\n",
    "    result[company][\"F\"] = (df[\"流动负债合计\"] + 0.5 * df[\"非流动负债合计\"]).mean()\n",
    "{company:result[company][\"F\"] for company in result}"
   ]
  },
  {
   "cell_type": "markdown",
   "metadata": {},
   "source": [
    "### 计算预期违约概率 EDF\n",
    "\n",
    "利用KMV模型，我们计算了三家公司各自的预期违约概率，结果如下："
   ]
  },
  {
   "cell_type": "code",
   "execution_count": 4,
   "metadata": {},
   "outputs": [
    {
     "data": {
      "text/html": [
       "<div>\n",
       "<style scoped>\n",
       "    .dataframe tbody tr th:only-of-type {\n",
       "        vertical-align: middle;\n",
       "    }\n",
       "\n",
       "    .dataframe tbody tr th {\n",
       "        vertical-align: top;\n",
       "    }\n",
       "\n",
       "    .dataframe thead th {\n",
       "        text-align: right;\n",
       "    }\n",
       "</style>\n",
       "<table border=\"1\" class=\"dataframe\">\n",
       "  <thead>\n",
       "    <tr style=\"text-align: right;\">\n",
       "      <th></th>\n",
       "      <th>比亚迪</th>\n",
       "      <th>三一重工</th>\n",
       "      <th>宁德时代</th>\n",
       "    </tr>\n",
       "  </thead>\n",
       "  <tbody>\n",
       "    <tr>\n",
       "      <th>edf</th>\n",
       "      <td>0.000071</td>\n",
       "      <td>2.817646e-08</td>\n",
       "      <td>0.000054</td>\n",
       "    </tr>\n",
       "    <tr>\n",
       "      <th>dd</th>\n",
       "      <td>-3.805921</td>\n",
       "      <td>-5.430004e+00</td>\n",
       "      <td>-3.872672</td>\n",
       "    </tr>\n",
       "  </tbody>\n",
       "</table>\n",
       "</div>"
      ],
      "text/plain": [
       "          比亚迪          三一重工      宁德时代\n",
       "edf  0.000071  2.817646e-08  0.000054\n",
       "dd  -3.805921 -5.430004e+00 -3.872672"
      ]
     },
     "execution_count": 4,
     "metadata": {},
     "output_type": "execute_result"
    }
   ],
   "source": [
    "def kmv(r, sigma_e, t, equity, debt):\n",
    "    def option(w):\n",
    "        x, sigma_a = w\n",
    "        N_d1 = stats.norm.cdf(\n",
    "            (np.log(abs(x) * equity / debt) + (r + 0.5 * sigma_a**2) * t)\n",
    "            / (sigma_a * np.sqrt(t))\n",
    "        )\n",
    "        N_d2 = stats.norm.cdf(\n",
    "            (np.log(abs(x) * equity / debt) + (r - 0.5 * sigma_a**2) * t)\n",
    "            / (sigma_a * np.sqrt(t))\n",
    "        )\n",
    "        e1 = equity - (x * equity * N_d1 - debt * N_d2 * np.exp(-r * t))\n",
    "        e2 = sigma_e - sigma_a * N_d1 * x\n",
    "        return [e1, e2]\n",
    "\n",
    "    assets, sigma_a = optimize.fsolve(option, [1, 0.1], maxfev=100000000)\n",
    "    DD = (assets * equity - debt) / (assets * equity * sigma_a)\n",
    "    EDF = stats.norm.cdf(-DD)\n",
    "    return EDF, DD\n",
    "\n",
    "\n",
    "edf = {}\n",
    "for company in result:\n",
    "    kmvmodel = kmv(\n",
    "        0.03,\n",
    "        result[company][\"V\"].pct_change().var() * 252,\n",
    "        1,\n",
    "        result[company][\"V\"].values[0],\n",
    "        result[company][\"F\"],\n",
    "    )\n",
    "    edf[company] = {\"edf\": kmvmodel[0], \"dd\": -kmvmodel[1]}\n",
    "edf = pd.DataFrame(edf)\n",
    "edf"
   ]
  },
  {
   "cell_type": "markdown",
   "metadata": {},
   "source": [
    "## 组合的违约概率\n",
    "\n",
    "依据<cite data-cite=\"任宇航2006信用风险组合管理模型中的相关性问题研究述评\">任宇航(2006)</cite>提出的算法，$DD$ 服从联合多元标准正态分布，且相关系数等于资产的相关系数，因而以下 code cell 分别为全部违约、两个公司违约、三个公司违约的概率"
   ]
  },
  {
   "cell_type": "code",
   "execution_count": 5,
   "metadata": {},
   "outputs": [
    {
     "data": {
      "text/plain": [
       "0.0"
      ]
     },
     "execution_count": 5,
     "metadata": {},
     "output_type": "execute_result"
    }
   ],
   "source": [
    "cov = rate.cov()\n",
    "alldefault = stats.multivariate_normal.cdf(x=edf.T[\"dd\"], cov=cov)\n",
    "alldefault"
   ]
  },
  {
   "cell_type": "code",
   "execution_count": 6,
   "metadata": {},
   "outputs": [
    {
     "data": {
      "text/plain": [
       "{('三一重工', '宁德时代'): 0.0, ('比亚迪', '宁德时代'): 0.0, ('比亚迪', '三一重工'): 0.0}"
      ]
     },
     "execution_count": 6,
     "metadata": {},
     "output_type": "execute_result"
    }
   ],
   "source": [
    "twodefault = {}\n",
    "for company in edf:\n",
    "    others = [i for i in edf if i != company]\n",
    "    others_edf = edf[others]\n",
    "    others_cov = cov[others].loc[others]\n",
    "    twodefault[tuple(others)] = (\n",
    "        stats.multivariate_normal.cdf(x=others_edf.T[\"dd\"], cov=others_cov.values)\n",
    "        - alldefault\n",
    "    )\n",
    "twodefault"
   ]
  },
  {
   "cell_type": "code",
   "execution_count": 7,
   "metadata": {},
   "outputs": [
    {
     "data": {
      "text/plain": [
       "{'比亚迪': 7.063880677575358e-05,\n",
       " '三一重工': 2.8176458428261814e-08,\n",
       " '宁德时代': 5.3824295964351054e-05}"
      ]
     },
     "execution_count": 7,
     "metadata": {},
     "output_type": "execute_result"
    }
   ],
   "source": [
    "onedefault = {}\n",
    "for company in edf:\n",
    "    others = [i for i in edf if i != company]\n",
    "    onedefault[company] = (\n",
    "        edf.T[\"edf\"].to_dict()[company] - alldefault - twodefault[tuple(others)]\n",
    "    )\n",
    "onedefault"
   ]
  },
  {
   "cell_type": "markdown",
   "metadata": {},
   "source": [
    "## 贷款比例与信用风险\n",
    "\n",
    "利用以上的结果，我们以贷款给这三家公司的期望收益为标准，选择期望收益最大化的贷款分配比例。由于违约概率都很小，贷款的 $VaR$ 指导意义较弱，因而我们选择最大化期望收益。最终的结果是100%贷给违约风险相对更高但绝对值仍然很低的比亚迪，以获得最高的期望收益。"
   ]
  },
  {
   "cell_type": "code",
   "execution_count": 8,
   "metadata": {},
   "outputs": [
    {
     "data": {
      "text/plain": [
       "{'比亚迪': 0.9999999999999999, '三一重工': 0.0, '宁德时代': 2.220446049250313e-16}"
      ]
     },
     "execution_count": 8,
     "metadata": {},
     "output_type": "execute_result"
    }
   ],
   "source": [
    "zerodefault = 1 - alldefault - sum(twodefault.values()) - sum(onedefault.values())\n",
    "return_rate = (1.03+edf.T[\"edf\"] * 10**3).to_dict()\n",
    "def expected_return(case):\n",
    "    case = {'比亚迪': case[0], '三一重工':case[1], '宁德时代': case[2]}\n",
    "    final = (\n",
    "        alldefault * 0\n",
    "        + sum(\n",
    "            [\n",
    "                twodefault[i] * return_rate[j] * case[j]\n",
    "                for i in twodefault\n",
    "                for j in onedefault\n",
    "                if j not in i\n",
    "            ]\n",
    "        )\n",
    "        + sum(\n",
    "            [\n",
    "                onedefault[i] * return_rate[j] * case[j]\n",
    "                for i in onedefault\n",
    "                for j in onedefault\n",
    "                if j != i\n",
    "            ]\n",
    "        )\n",
    "        + zerodefault * sum([return_rate[i] * case[i] for i in onedefault])\n",
    "    )\n",
    "    return -final\n",
    "\n",
    "\n",
    "case = optimize.minimize(\n",
    "    expected_return,\n",
    "    (0,0,1),\n",
    "    constraints=({\"type\": \"eq\", \"fun\": lambda x: sum(x) - 1}),\n",
    "    bounds=[(0, 1)] * 3,\n",
    ").x\n",
    "{'比亚迪': case[0], '三一重工':case[1], '宁德时代': case[2]}"
   ]
  },
  {
   "cell_type": "markdown",
   "metadata": {},
   "source": [
    "\\nocite{*}\n",
    "\\bibliographystyle{plain}\n",
    "\\bibliography{reference}"
   ]
  }
 ],
 "metadata": {
  "interpreter": {
   "hash": "4f288aa199d99f1c9473740f63828859a8d749ffd51bd0ec7038da9c41203625"
  },
  "kernelspec": {
   "display_name": "Python 3.10.4 ('.venv': poetry)",
   "language": "python",
   "name": "python3"
  },
  "language_info": {
   "codemirror_mode": {
    "name": "ipython",
    "version": 3
   },
   "file_extension": ".py",
   "mimetype": "text/x-python",
   "name": "python",
   "nbconvert_exporter": "python",
   "pygments_lexer": "ipython3",
   "version": "3.10.4"
  },
  "orig_nbformat": 4
 },
 "nbformat": 4,
 "nbformat_minor": 2
}
